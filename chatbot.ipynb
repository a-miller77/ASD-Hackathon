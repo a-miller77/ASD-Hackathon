{
 "cells": [
  {
   "cell_type": "code",
   "execution_count": 7,
   "metadata": {},
   "outputs": [],
   "source": [
    "# Install llama.cpp here!\n",
    "\n",
    "# You must be running this notebook as a job (this is the default case, so you're probably fine)\n",
    "# Only run this cell once. You can comment these lines out after installation.\n",
    "\n",
    "# %env CMAKE_ARGS=-DLLAMA_CUBLAS=on\n",
    "# %env FORCE_CMAKE=1\n",
    "# %pip install llama-cpp-python --force-reinstall --upgrade --no-cache-dir --no-clean"
   ]
  },
  {
   "cell_type": "code",
   "execution_count": 6,
   "metadata": {},
   "outputs": [
    {
     "ename": "ModuleNotFoundError",
     "evalue": "No module named 'llama_cpp'",
     "output_type": "error",
     "traceback": [
      "\u001b[1;31m---------------------------------------------------------------------------\u001b[0m",
      "\u001b[1;31mModuleNotFoundError\u001b[0m                       Traceback (most recent call last)",
      "\u001b[1;32mc:\\Users\\milleraa\\OneDrive - Milwaukee School of Engineering\\Documents\\Programmer\\ASD-Hackathon\\chatbot.ipynb Cell 2\u001b[0m line \u001b[0;36m1\n\u001b[1;32m----> <a href='vscode-notebook-cell:/c%3A/Users/milleraa/OneDrive%20-%20Milwaukee%20School%20of%20Engineering/Documents/Programmer/ASD-Hackathon/chatbot.ipynb#W4sZmlsZQ%3D%3D?line=0'>1</a>\u001b[0m \u001b[39mfrom\u001b[39;00m \u001b[39mllama_cpp\u001b[39;00m \u001b[39mimport\u001b[39;00m Llama\n",
      "\u001b[1;31mModuleNotFoundError\u001b[0m: No module named 'llama_cpp'"
     ]
    }
   ],
   "source": [
    "from llama_cpp import Llama"
   ]
  },
  {
   "cell_type": "code",
   "execution_count": null,
   "metadata": {},
   "outputs": [],
   "source": [
    "path = '/data/ai_club/llms/llama-2-7b-chat.Q5_K_M.gguf'\n",
    "llm = Llama(path, n_gpu_layers=-1, verbose=False)"
   ]
  },
  {
   "cell_type": "code",
   "execution_count": null,
   "metadata": {},
   "outputs": [],
   "source": [
    "def load_context(file_path):\n",
    "    try:\n",
    "        with open(file_path, 'r') as file:\n",
    "            file_contents = file.read()\n",
    "        return '```\\n' + file_contents + '\\n```'\n",
    "    except FileNotFoundError:\n",
    "        return f'File not found: {file_path}'\n",
    "    except Exception as e:\n",
    "        return f'An error occurred: {e}'"
   ]
  },
  {
   "cell_type": "code",
   "execution_count": 3,
   "metadata": {},
   "outputs": [],
   "source": [
    "def prompt_model(history: [dict]) -> str:\n",
    "    \"\"\"\n",
    "    \"\"\"\n",
    "    return llm.create_chat_completion(history)['choices'][0]['message']['content']"
   ]
  },
  {
   "cell_type": "code",
   "execution_count": null,
   "metadata": {},
   "outputs": [],
   "source": [
    "def question_llm(context: str, dev_prompt: str, user_prompt: str, history: [dict]=[]) -> bool:\n",
    "  \"\"\"\n",
    "  - Question model with a Yes/No form of question and return boolean of response\n",
    "  \"\"\"\n",
    "  prompt = (\n",
    "    f'[{context}]\\n'\n",
    "    f'{dev_prompt}\\n\\n'\n",
    "    f'[prompt]\\n'\n",
    "    f'{user_prompt}\\n\\n'\n",
    "    'Yes/No:'\n",
    "    )\n",
    "  history.append({'role' : 'user', 'content' : prompt})\n",
    "  result = prompt_model(history)\n",
    "  print(result)\n",
    "  if 'yes' in result.lower():\n",
    "    return True\n",
    "  else:\n",
    "    return False"
   ]
  },
  {
   "cell_type": "code",
   "execution_count": null,
   "metadata": {},
   "outputs": [],
   "source": [
    "def is_faq(user_prompt: str, history: [dict]=[]) -> bool:\n",
    "    context = load_context('contexts/ASD_general.txt')\n",
    "    dev_prompt = 'Is the user asking a general question about ASD'\n",
    "    return question_llm(context, dev_prompt, user_prompt, history)"
   ]
  }
 ],
 "metadata": {
  "kernelspec": {
   "display_name": "env",
   "language": "python",
   "name": "python3"
  },
  "language_info": {
   "codemirror_mode": {
    "name": "ipython",
    "version": 3
   },
   "file_extension": ".py",
   "mimetype": "text/x-python",
   "name": "python",
   "nbconvert_exporter": "python",
   "pygments_lexer": "ipython3",
   "version": "3.11.5"
  }
 },
 "nbformat": 4,
 "nbformat_minor": 2
}
