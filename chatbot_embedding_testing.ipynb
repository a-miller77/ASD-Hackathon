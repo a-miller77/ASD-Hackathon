{
 "cells": [
  {
   "cell_type": "code",
   "execution_count": null,
   "metadata": {},
   "outputs": [],
   "source": [
    "# %pip install langchain\n",
    "# %pip install huggingface_hub\n",
    "# %pip install sentence_transformers\n",
    "# %pip install faiss-cpu\n",
    "# %pip install unstructured\n",
    "# %pip install chromadb\n",
    "# %pip install Cython\n",
    "# %pip install tiktoken\n",
    "# %pip install unstructured[local-inference]\n",
    "# %pip install qdrant-client"
   ]
  },
  {
   "cell_type": "code",
   "execution_count": 1,
   "metadata": {},
   "outputs": [
    {
     "name": "stderr",
     "output_type": "stream",
     "text": [
      "2023-11-18 12:18:23.468466: I tensorflow/core/util/port.cc:110] oneDNN custom operations are on. You may see slightly different numerical results due to floating-point round-off errors from different computation orders. To turn them off, set the environment variable `TF_ENABLE_ONEDNN_OPTS=0`.\n",
      "2023-11-18 12:18:23.508978: I tensorflow/core/platform/cpu_feature_guard.cc:183] This TensorFlow binary is optimized to use available CPU instructions in performance-critical operations.\n",
      "To enable the following instructions: SSE3 SSE4.1 SSE4.2 AVX, in other operations, rebuild TensorFlow with the appropriate compiler flags.\n"
     ]
    }
   ],
   "source": [
    "# import os\n",
    "# import requests\n",
    "# import faiss\n",
    "# import torch\n",
    "\n",
    "# from langchain.embeddings import HuggingFaceEmbeddings #for using HugginFace models\n",
    "# # Vectorstore: https://python.langchain.com/en/latest/modules/indexes/vectorstores.html\n",
    "# from langchain.vectorstores import FAISS  #facebook vectorizationfrom langchain.chains.question_answering import load_qa_chain\n",
    "# from langchain.chains.question_answering import load_qa_chain\n",
    "# from langchain.document_loaders import DirectoryLoader\n",
    "# from langchain.document_loaders import TextLoader\n",
    "# from langchain.embeddings import HuggingFaceEmbeddings\n",
    "\n",
    "# from LangChain_chatbot_util import read_api_key\n",
    "\n",
    "# from langchain.text_splitter import CharacterTextSplitter\n",
    "\n",
    "# os.environ[\"HUGGINGFACEHUB_API_TOKEN\"] = read_api_key()\n",
    "\n",
    "# from langchain import HuggingFacePipeline\n",
    "# from langchain import PromptTemplate,  LLMChain\n",
    "\n",
    "# from langchain.memory import ConversationBufferMemory\n",
    "# from langchain import LLMChain, PromptTemplate\n",
    "\n",
    "# from transformers import AutoTokenizer, AutoModel\n",
    "\n",
    "# import pandas as pd\n",
    "\n",
    "from LangChain_chatbot_util import *"
   ]
  },
  {
   "cell_type": "code",
   "execution_count": 2,
   "metadata": {},
   "outputs": [
    {
     "name": "stdout",
     "output_type": "stream",
     "text": [
      "importing model and tokenizer from HuggingFace\n"
     ]
    },
    {
     "name": "stderr",
     "output_type": "stream",
     "text": [
      "/home/milleraa/.local/lib/python3.10/site-packages/transformers/models/auto/tokenization_auto.py:674: FutureWarning: The `use_auth_token` argument is deprecated and will be removed in v5 of Transformers. Please use `token` instead.\n",
      "  warnings.warn(\n",
      "/home/milleraa/.local/lib/python3.10/site-packages/transformers/models/auto/auto_factory.py:472: FutureWarning: The `use_auth_token` argument is deprecated and will be removed in v5 of Transformers. Please use `token` instead.\n",
      "  warnings.warn(\n"
     ]
    },
    {
     "data": {
      "application/vnd.jupyter.widget-view+json": {
       "model_id": "d48049d40d8d4a0ab6d2cd00f1caec01",
       "version_major": 2,
       "version_minor": 0
      },
      "text/plain": [
       "Loading checkpoint shards:   0%|          | 0/2 [00:00<?, ?it/s]"
      ]
     },
     "metadata": {},
     "output_type": "display_data"
    }
   ],
   "source": [
    "LLMFactory.initiate_model()"
   ]
  },
  {
   "cell_type": "code",
   "execution_count": 5,
   "metadata": {},
   "outputs": [
    {
     "name": "stderr",
     "output_type": "stream",
     "text": [
      "Created a chunk of size 565, which is longer than the specified 500\n",
      "Created a chunk of size 534, which is longer than the specified 500\n"
     ]
    },
    {
     "name": "stdout",
     "output_type": "stream",
     "text": [
      "[INST] <<SYS>>\n",
      "You are a helpful assistant, you always only answer for the \n",
      "        assistant then you stop. Read the chat history and reference the context provided \n",
      "        to better be able to respond to the prompt\n",
      "<</SYS>>\n",
      "\n",
      " \n",
      "Context:\n",
      "\n",
      " Delays in communicating with others including speech and gestures\n",
      "\n",
      "Not responding to one’s own name\n",
      "\n",
      "Getting upset over minor changes in routine\n",
      "\n",
      "Avoiding many, if not most, forms of physical contact\n",
      "\n",
      "Showing little interest in objects or people\n",
      "\n",
      "The American Academy of Pediatrics (AAP) suggests that autism screenings should be part of standard 18 and 24\n",
      "\n",
      "month well\n",
      "\n",
      " Examples of restricted or repetitive behaviors and interests related to ASD can include\n",
      "\n",
      "Lines up toys or other objects and gets upset when order is changed\n",
      "\n",
      "Repeats words or phrases over and over (called echolalia)\n",
      "\n",
      "Plays with toys the same way every time\n",
      "\n",
      "Is focused on parts of objects (for example, wheels)\n",
      "\n",
      "Gets upset by minor changes\n",
      "\n",
      "Has obsessive interests\n",
      "\n",
      "Must follow certain routines\n",
      "\n",
      "Flaps hands, rocks body, or spins self in circles\n",
      "\n",
      " Does not notice other children and join them in play by 36 months of age\n",
      "\n",
      "Does not pretend to be something else, like a teacher or superhero, during play by 48 months of age\n",
      "\n",
      "Does not sing, dance, or act for you by 60 months of age\n",
      "\n",
      "Restricted or Repetitive Behaviors or Interests People with ASD have behaviors or interests that can seem unusual. These behaviors or interests set ASD apart from conditions defined by problems with social communication and interaction only.\n",
      "\n",
      " Signs and Symptoms of Autism Spectrum Disorder Autism spectrum disorder (ASD) is a developmental disability caused by differences in the brain. People with ASD often have problems with social communication and interaction, and restricted or repetitive behaviors or interests. People with ASD may also have different ways of learning, moving, or paying attention. It is important to note that some people without ASD might also have some of these symptoms. But for people with ASD, these characteristics can make life very challenging.End Context\n",
      "\n",
      " \n",
      "\n",
      "Chat History:\n",
      "\n",
      "{chat_history} \n",
      "\n",
      "End Chat History\n",
      "\n",
      "User: {user_input} [/INST]\n",
      "\n",
      "\n",
      "\u001b[1m> Entering new LLMChain chain...\u001b[0m\n",
      "Prompt after formatting:\n",
      "\u001b[32;1m\u001b[1;3m[INST]<<SYS>>\n",
      "You are a helpful assistant, you always only answer for the \n",
      "        assistant then you stop. Read the chat history and reference the context provided \n",
      "        to better be able to respond to the prompt\n",
      "<</SYS>>\n",
      "\n",
      "\n",
      "Context:\n",
      "\n",
      " Delays in communicating with others including speech and gestures\n",
      "\n",
      "Not responding to one’s own name\n",
      "\n",
      "Getting upset over minor changes in routine\n",
      "\n",
      "Avoiding many, if not most, forms of physical contact\n",
      "\n",
      "Showing little interest in objects or people\n",
      "\n",
      "The American Academy of Pediatrics (AAP) suggests that autism screenings should be part of standard 18 and 24\n",
      "\n",
      "month well\n",
      "\n",
      " Examples of restricted or repetitive behaviors and interests related to ASD can include\n",
      "\n",
      "Lines up toys or other objects and gets upset when order is changed\n",
      "\n",
      "Repeats words or phrases over and over (called echolalia)\n",
      "\n",
      "Plays with toys the same way every time\n",
      "\n",
      "Is focused on parts of objects (for example, wheels)\n",
      "\n",
      "Gets upset by minor changes\n",
      "\n",
      "Has obsessive interests\n",
      "\n",
      "Must follow certain routines\n",
      "\n",
      "Flaps hands, rocks body, or spins self in circles\n",
      "\n",
      " Does not notice other children and join them in play by 36 months of age\n",
      "\n",
      "Does not pretend to be something else, like a teacher or superhero, during play by 48 months of age\n",
      "\n",
      "Does not sing, dance, or act for you by 60 months of age\n",
      "\n",
      "Restricted or Repetitive Behaviors or Interests People with ASD have behaviors or interests that can seem unusual. These behaviors or interests set ASD apart from conditions defined by problems with social communication and interaction only.\n",
      "\n",
      " Signs and Symptoms of Autism Spectrum Disorder Autism spectrum disorder (ASD) is a developmental disability caused by differences in the brain. People with ASD often have problems with social communication and interaction, and restricted or repetitive behaviors or interests. People with ASD may also have different ways of learning, moving, or paying attention. It is important to note that some people without ASD might also have some of these symptoms. But for people with ASD, these characteristics can make life very challenging.End Context\n",
      "\n",
      "\n",
      "\n",
      "Chat History:\n",
      "\n",
      "Human: What is Autism?\n",
      "AI:   Hello! I'm here to help you understand more about autism. Autism, also known as Autism Spectrum Disorder (ASD), is a neurological and developmental disorder that affects communication, social interaction, and behavior. It is characterized by difficulties in social interaction, impaired communication, and repetitive behaviors or interests.\n",
      "\n",
      "Autism is a complex condition, and there is no known single cause. Research suggests that it is likely caused by a combination of genetic and environmental factors, which can affect the development of the brain and nervous system. Some people with autism may have a known genetic condition, while others may not.\n",
      "\n",
      "The signs and symptoms of autism can vary widely, and may include:\n",
      "\n",
      "* Delays in communicating with others, such as speech and language difficulties\n",
      "* Not responding to one's own name\n",
      "* Getting upset over minor changes in routine\n",
      "* Avoiding many, if not most, forms of physical contact\n",
      "* Showing little interest in objects or people\n",
      "\n",
      "The American Academy of Pediatrics (AAP) recommends that autism screenings be part of standard 18 and 24-month well-child visits. Early identification and intervention can make a significant difference in the lives of individuals with autism, and can help them reach their full potential.\n",
      "\n",
      "I hope this information helps you understand more about autism. If you have any further questions, please don't hesitate to ask! \n",
      "\n",
      "End Chat History\n",
      "\n",
      "User: My child might have autism. He likes trucks[/INST]\u001b[0m\n",
      "\n",
      "\u001b[1m> Finished chain.\u001b[0m\n"
     ]
    }
   ],
   "source": [
    "output = llm_response(\"My child might have autism. He likes trucks\")"
   ]
  },
  {
   "cell_type": "code",
   "execution_count": 6,
   "metadata": {},
   "outputs": [
    {
     "name": "stdout",
     "output_type": "stream",
     "text": [
      "  Hello! I'm here to help you understand more about autism and how it may affect your child. It's important to keep in mind that every individual with autism is unique and may exhibit a different combination of signs and symptoms.\n",
      "\n",
      "Based on the information you provided, it's possible that your child may be exhibiting some common traits associated with autism, such as a preference for routine and a limited interest in social interactions. It's also possible that your child may be experiencing delays in communication and language skills, as well as difficulty responding to their own name.\n",
      "\n",
      "It's important to consult with a medical professional to determine if your child is exhibiting signs of autism. The American Academy of Pediatrics recommends that autism screenings be part of standard 18 and 24-month well-child visits. Early identification and intervention can make a significant difference in the lives of individuals with autism, and can help them reach their full potential.\n",
      "\n",
      "In the meantime, there are some things you can do to support your child's development and potential signs of autism. Encouraging your child to engage in activities they enjoy, such as playing with trucks, can help them develop their interests and passions. It's also important to provide a structured and predictable routine, as this can help your child feel more secure and comfortable.\n",
      "\n",
      "Remember, every child develops at their own pace, and some may exhibit behaviors that are outside of the normal range. If you have any concerns about your child's development, it's always best to consult with a medical professional.\n",
      "\n",
      "I hope this information helps you better understand autism and how it may affect your child. If you have any further questions, please don't hesitate to ask!\n"
     ]
    }
   ],
   "source": [
    "print(output)"
   ]
  },
  {
   "cell_type": "code",
   "execution_count": null,
   "metadata": {},
   "outputs": [],
   "source": [
    "loader = DirectoryLoader('./contexts', glob=\"./*.txt\")\n",
    " \n",
    "docs = loader.load()"
   ]
  },
  {
   "cell_type": "code",
   "execution_count": null,
   "metadata": {},
   "outputs": [],
   "source": [
    "print(docs[0].page_content)"
   ]
  },
  {
   "cell_type": "code",
   "execution_count": null,
   "metadata": {},
   "outputs": [],
   "source": [
    "text_splitter = CharacterTextSplitter(\n",
    "    chunk_size=600,\n",
    "    chunk_overlap=0\n",
    ")\n",
    "\n",
    "docs_split = text_splitter.split_documents(docs)\n",
    "docs_split"
   ]
  },
  {
   "cell_type": "code",
   "execution_count": null,
   "metadata": {},
   "outputs": [],
   "source": [
    "# Embeddings\n",
    "embeddings = HuggingFaceEmbeddings()"
   ]
  },
  {
   "cell_type": "code",
   "execution_count": null,
   "metadata": {},
   "outputs": [],
   "source": [
    "db = FAISS.from_documents(docs_split, embeddings)\n",
    "query = \"My teenager had a screening for autism. Where can I go for depression therapy services? \"\n",
    "docs_similar = db.similarity_search_with_score(query)\n",
    "\n",
    "doc0, sim = docs_similar[0]\n",
    "sim\n",
    "# for i in range(4):\n",
    "#     print(\"\\n\")\n",
    "#     print(docs[i].page_content)"
   ]
  },
  {
   "cell_type": "code",
   "execution_count": null,
   "metadata": {},
   "outputs": [],
   "source": [
    "def get_similarity(query, doc):\n",
    "    db = FAISS.from_documents(doc, HuggingFaceEmbeddings())\n",
    "    db_docs = db.similarity_search_with_score(query)\n",
    "    simularity_list = []\n",
    "    doc_list = []\n",
    "    \n",
    "    for item in db_docs:\n",
    "        simularity, doc = item\n",
    "        simularity_list.append(simularity)\n",
    "        doc_list.append(doc)\n",
    "    return simularity_list, doc_list"
   ]
  },
  {
   "cell_type": "code",
   "execution_count": null,
   "metadata": {},
   "outputs": [],
   "source": [
    "sim, doc = get_similarity(\"My child keeps eating legos. Is he Autstic\", docs_split)"
   ]
  },
  {
   "cell_type": "code",
   "execution_count": null,
   "metadata": {},
   "outputs": [],
   "source": [
    "df = pd.DataFrame({\"Document\":doc, \"Simularity\": sim})\n",
    "df.head()"
   ]
  },
  {
   "cell_type": "code",
   "execution_count": null,
   "metadata": {},
   "outputs": [],
   "source": [
    "prompt = \"My child keeps eating legos. Is he Autstic\"\n",
    "similarity_scores, indices = get_similarity(prompt, db)\n",
    "\n",
    "# Print the similarity scores and corresponding document indices\n",
    "print(\"Similarity Scores:\", similarity_scores)\n",
    "print(\"Document Indices:\", indices)"
   ]
  },
  {
   "cell_type": "code",
   "execution_count": null,
   "metadata": {},
   "outputs": [],
   "source": [
    "index = faiss.IndexFlatL2()"
   ]
  }
 ],
 "metadata": {
  "kernelspec": {
   "display_name": "Python 3 (ipykernel)",
   "language": "python",
   "name": "python3"
  },
  "language_info": {
   "codemirror_mode": {
    "name": "ipython",
    "version": 3
   },
   "file_extension": ".py",
   "mimetype": "text/x-python",
   "name": "python",
   "nbconvert_exporter": "python",
   "pygments_lexer": "ipython3",
   "version": "3.10.6"
  }
 },
 "nbformat": 4,
 "nbformat_minor": 2
}
