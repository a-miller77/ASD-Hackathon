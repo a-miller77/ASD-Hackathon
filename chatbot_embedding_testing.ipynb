{
 "cells": [
  {
   "cell_type": "code",
   "execution_count": null,
   "metadata": {},
   "outputs": [],
   "source": [
    "# %pip install langchain\n",
    "# %pip install huggingface_hub\n",
    "# %pip install sentence_transformers\n",
    "# %pip install faiss-cpu\n",
    "# %pip install unstructured\n",
    "# %pip install chromadb\n",
    "# %pip install Cython\n",
    "# %pip install tiktoken\n",
    "# %pip install unstructured[local-inference]\n",
    "# %pip install qdrant-client"
   ]
  },
  {
   "cell_type": "code",
   "execution_count": 2,
   "metadata": {},
   "outputs": [],
   "source": [
    "import os\n",
    "import requests\n",
    "\n",
    "from langchain.embeddings import HuggingFaceEmbeddings #for using HugginFace models\n",
    "# Vectorstore: https://python.langchain.com/en/latest/modules/indexes/vectorstores.html\n",
    "from langchain.vectorstores import FAISS  #facebook vectorizationfrom langchain.chains.question_answering import load_qa_chain\n",
    "from langchain.chains.question_answering import load_qa_chain\n",
    "from langchain.document_loaders import DirectoryLoader\n",
    "from langchain.document_loaders import TextLoader\n",
    "from langchain.embeddings import HuggingFaceEmbeddings\n",
    "\n",
    "from LangChain_chatbot_util import read_api_key\n",
    "\n",
    "from langchain.text_splitter import CharacterTextSplitter\n",
    "\n",
    "os.environ[\"HUGGINGFACEHUB_API_TOKEN\"] = read_api_key()"
   ]
  },
  {
   "cell_type": "code",
   "execution_count": 3,
   "metadata": {},
   "outputs": [
    {
     "name": "stdout",
     "output_type": "stream",
     "text": [
      "Extension horovod.torch has not been built: /usr/local/lib/python3.10/dist-packages/horovod/torch/mpi_lib_v2.cpython-310-x86_64-linux-gnu.so not found\n",
      "If this is not expected, reinstall Horovod with HOROVOD_WITH_PYTORCH=1 to debug the build error.\n",
      "Warning! MPI libs are missing, but python applications are still available.\n"
     ]
    }
   ],
   "source": [
    "loader = DirectoryLoader('./contexts', glob=\"./*.txt\")\n",
    " \n",
    "data = loader.load()"
   ]
  },
  {
   "cell_type": "code",
   "execution_count": 8,
   "metadata": {},
   "outputs": [
    {
     "name": "stdout",
     "output_type": "stream",
     "text": [
      "Autism spectrum disorder (ASD) is a developmental disability caused by differences in the brain. Some people with ASD have a known difference, such as a genetic condition. Other causes are not yet known. Scientists believe there are multiple causes of ASD that act together to change the most common ways people develop. We still have much to learn about these causes and how they impact people with ASD.\n",
      "\n",
      "People with ASD may behave, communicate, interact, and learn in ways that are different from most other people. There is often nothing about how they look that sets them apart from other people. The abilities of people with ASD can vary significantly. For example, some people with ASD may have advanced conversation skills whereas others may be nonverbal. Some people with ASD need a lot of help in their daily lives; others can work and live with little to no support.\n",
      "\n",
      "ASD begins before the age of 3 years and can last throughout a person’s life, although symptoms may improve over time. Some children show ASD symptoms within the first 12 months of life. In others, symptoms may not show up until 24 months of age or later. Some children with ASD gain new skills and meet developmental milestones until around 18 to 24 months of age, and then they stop gaining new skills or lose the skills they once had.\n",
      "\n",
      "As children with ASD become adolescents and young adults, they may have difficulties developing and maintaining friendships, communicating with peers and adults, or understanding what behaviors are expected in school or on the job. They may come to the attention of healthcare providers because they also have conditions such as anxiety, depression, or attention-deficit/hyperactivity disorder, which occur more often in people with ASD than in people without ASD.\n",
      "\n",
      "Signs and Symptoms People with ASD often have problems with social communication and interaction, and restricted or repetitive behaviors or interests. People with ASD may also have different ways of learning, moving, or paying attention. These characteristics can make life very challenging. It is important to note that some people without  ASD might also have some of these symptoms.\n",
      "\n",
      "Diagnosis Diagnosing ASD can be difficult since there is no medical test, like a blood test, to diagnose the disorder. Doctors look at the child’s behavior and development to make a diagnosis. ASD can sometimes be detected at 18 months of age or younger. By age 2, a diagnosis by an experienced professional can be considered reliable.1 However, many children do not receive a final diagnosis until they are much older. Some people are not diagnosed until they are adolescents or adults. This delay means that people with ASD might not get the early help they need.\n",
      "\n",
      "Treatment Current treatments for ASD seek to reduce symptoms that interfere with daily functioning and quality of life. ASD affects each person differently, meaning that people with ASD have unique strengths and challenges and different treatment needs.2  Treatment plans usually involve multiple professionals and are catered to the individual.\n",
      "\n",
      "Risk Factors There is not just one cause of ASD. There are many different factors that have been identified that may make a child more likely to have ASD, including environmental, biologic, and genetic factors.\n",
      "\n",
      "Although we know little about specific causes, the available evidence suggests that the following may put children at greater risk for developing ASD: - Having a sibling with ASD - Having certain genetic or chromosomal conditions, such as fragile X syndrome or tuberous sclerosis - Experiencing complications at birth - Being born to older parents\n",
      "\n",
      "How Often ASD Occurs CDC’s Autism and Developmental Disabilities Monitoring (ADDM) Network has been estimating the number of 8-year-old children with ASD in the United States since 2000.\n",
      "\n",
      "ASD occurs in all racial, ethnic, and socioeconomic groups. It is more than 4 times more common among boys than among girls.\n"
     ]
    }
   ],
   "source": [
    "print(data[0].page_content)"
   ]
  },
  {
   "cell_type": "code",
   "execution_count": 9,
   "metadata": {},
   "outputs": [
    {
     "data": {
      "text/plain": [
       "[Document(page_content='Autism spectrum disorder (ASD) is a developmental disability caused by differences in the brain. Some people with ASD have a known difference, such as a genetic condition. Other causes are not yet known. Scientists believe there are multiple causes of ASD that act together to change the most common ways people develop. We still have much to learn about these causes and how they impact people with ASD.\\n\\nPeople with ASD may behave, communicate, interact, and learn in ways that are different from most other people. There is often nothing about how they look that sets them apart from other people. The abilities of people with ASD can vary significantly. For example, some people with ASD may have advanced conversation skills whereas others may be nonverbal. Some people with ASD need a lot of help in their daily lives; others can work and live with little to no support.', metadata={'source': 'contexts/ASD_general.txt'}),\n",
       " Document(page_content='ASD begins before the age of 3 years and can last throughout a person’s life, although symptoms may improve over time. Some children show ASD symptoms within the first 12 months of life. In others, symptoms may not show up until 24 months of age or later. Some children with ASD gain new skills and meet developmental milestones until around 18 to 24 months of age, and then they stop gaining new skills or lose the skills they once had.\\n\\nAs children with ASD become adolescents and young adults, they may have difficulties developing and maintaining friendships, communicating with peers and adults, or understanding what behaviors are expected in school or on the job. They may come to the attention of healthcare providers because they also have conditions such as anxiety, depression, or attention-deficit/hyperactivity disorder, which occur more often in people with ASD than in people without ASD.', metadata={'source': 'contexts/ASD_general.txt'}),\n",
       " Document(page_content='Signs and Symptoms People with ASD often have problems with social communication and interaction, and restricted or repetitive behaviors or interests. People with ASD may also have different ways of learning, moving, or paying attention. These characteristics can make life very challenging. It is important to note that some people without  ASD might also have some of these symptoms.\\n\\nDiagnosis Diagnosing ASD can be difficult since there is no medical test, like a blood test, to diagnose the disorder. Doctors look at the child’s behavior and development to make a diagnosis. ASD can sometimes be detected at 18 months of age or younger. By age 2, a diagnosis by an experienced professional can be considered reliable.1 However, many children do not receive a final diagnosis until they are much older. Some people are not diagnosed until they are adolescents or adults. This delay means that people with ASD might not get the early help they need.', metadata={'source': 'contexts/ASD_general.txt'}),\n",
       " Document(page_content='Treatment Current treatments for ASD seek to reduce symptoms that interfere with daily functioning and quality of life. ASD affects each person differently, meaning that people with ASD have unique strengths and challenges and different treatment needs.2  Treatment plans usually involve multiple professionals and are catered to the individual.\\n\\nRisk Factors There is not just one cause of ASD. There are many different factors that have been identified that may make a child more likely to have ASD, including environmental, biologic, and genetic factors.\\n\\nAlthough we know little about specific causes, the available evidence suggests that the following may put children at greater risk for developing ASD: - Having a sibling with ASD - Having certain genetic or chromosomal conditions, such as fragile X syndrome or tuberous sclerosis - Experiencing complications at birth - Being born to older parents', metadata={'source': 'contexts/ASD_general.txt'}),\n",
       " Document(page_content='How Often ASD Occurs CDC’s Autism and Developmental Disabilities Monitoring (ADDM) Network has been estimating the number of 8-year-old children with ASD in the United States since 2000.\\n\\nASD occurs in all racial, ethnic, and socioeconomic groups. It is more than 4 times more common among boys than among girls.', metadata={'source': 'contexts/ASD_general.txt'}),\n",
       " Document(page_content='Signs and Symptoms of Autism Spectrum Disorder Autism spectrum disorder (ASD) is a developmental disability caused by differences in the brain. People with ASD often have problems with social communication and interaction, and restricted or repetitive behaviors or interests. People with ASD may also have different ways of learning, moving, or paying attention. It is important to note that some people without ASD might also have some of these symptoms. But for people with ASD, these characteristics can make life very challenging.\\n\\nSocial Communication and Interaction Skills Social communication and interaction skills can be challenging for people with ASD.\\n\\nExamples of social communication and social interaction characteristics related to ASD can include\\n\\nAvoids or does not keep eye contact\\n\\nDoes not respond to name by 9 months of age\\n\\nDoes not show facial expressions like happy, sad, angry, and surprised by 9 months of age\\n\\nDoes not play simple interactive games like pat\\n\\na', metadata={'source': 'contexts/ASD_symptoms.txt'}),\n",
       " Document(page_content='cake by 12 months of age\\n\\nUses few or no gestures by 12 months of age (for example, does not wave goodbye)\\n\\nDoes not share interests with others by 15 months of age (for example, shows you an object that they like)\\n\\nDoes not point to show you something interesting by 18 months of age\\n\\nDoes not notice when others are hurt or upset by 24 months of age\\n\\nDoes not notice other children and join them in play by 36 months of age\\n\\nDoes not pretend to be something else, like a teacher or superhero, during play by 48 months of age\\n\\nDoes not sing, dance, or act for you by 60 months of age\\n\\nRestricted or Repetitive Behaviors or Interests People with ASD have behaviors or interests that can seem unusual. These behaviors or interests set ASD apart from conditions defined by problems with social communication and interaction only.\\n\\nExamples of restricted or repetitive behaviors and interests related to ASD can include\\n\\nLines up toys or other objects and gets upset when order is changed', metadata={'source': 'contexts/ASD_symptoms.txt'}),\n",
       " Document(page_content='Repeats words or phrases over and over (called echolalia)\\n\\nPlays with toys the same way every time\\n\\nIs focused on parts of objects (for example, wheels)\\n\\nGets upset by minor changes\\n\\nHas obsessive interests\\n\\nMust follow certain routines\\n\\nFlaps hands, rocks body, or spins self in circles\\n\\nHas unusual reactions to the way things sound, smell, taste, look, or feel\\n\\nOther Characteristics Most people with ASD have other related characteristics. These might include\\n\\nDelayed language skills\\n\\nDelayed movement skills\\n\\nDelayed cognitive or learning skills\\n\\nHyperactive, impulsive, and/or inattentive behavior\\n\\nEpilepsy or seizure disorder\\n\\nUnusual eating and sleeping habits\\n\\nGastrointestinal issues (for example, constipation)\\n\\nUnusual mood or emotional reactions\\n\\nAnxiety, stress, or excessive worry\\n\\nLack of fear or more fear than expected\\n\\nIt is important to note that children with ASD may not have all or any of the behaviors listed as examples here.', metadata={'source': 'contexts/ASD_symptoms.txt'}),\n",
       " Document(page_content='What Is Autism Screening?\\n\\nAutism screening refers to the process of identifying individuals who may be at risk for autism spectrum disorder (ASD) or who may exhibit early signs of the condition. The primary goal of screening is to identify individuals who may benefit from further, more in-depth assessments or evaluations.\\n\\nAutism screening is usually administered by a pediatrician during a routine well-child checkup. The doctor may observe the child or ask you questions about his or her behaviors at home and while interacting with other children on the playground. The purpose of an autism screening is to identify common early signs of autism. The following are early signs of autism, however, they do not necessarily need to be present.\\n\\nDelays in communicating with others including speech and gestures\\n\\nNot responding to one’s own name\\n\\nGetting upset over minor changes in routine\\n\\nAvoiding many, if not most, forms of physical contact\\n\\nShowing little interest in objects or people', metadata={'source': 'contexts/ASD_screen.txt'}),\n",
       " Document(page_content='The American Academy of Pediatrics (AAP) suggests that autism screenings should be part of standard 18 and 24\\n\\nmonth well\\n\\nchild checkups, whereas the National Center on Birth Defects and Developmental Disabilities  (NCBDD) recommends that all children be screened at 9, 18, and 24 or 30 months.\\n\\nScreenings administered during well-child checkups are only designed to indicate whether a child may be showing some early signs of autism. These screenings identify areas requiring further assessment and do not replace a formal diagnosis. Although many doctors follow the AAP and NCBDD guidelines, parents should also be proactive. If you suspect your child may have autism,  please ask your child’s pediatrician to administer screening or request a referral to a qualified specialist.', metadata={'source': 'contexts/ASD_screen.txt'})]"
      ]
     },
     "execution_count": 9,
     "metadata": {},
     "output_type": "execute_result"
    }
   ],
   "source": [
    "text_splitter = CharacterTextSplitter(\n",
    "    chunk_size=1000,\n",
    "    chunk_overlap=0\n",
    ")\n",
    "\n",
    "docs_split = text_splitter.split_documents(data)\n",
    "docs_split"
   ]
  },
  {
   "cell_type": "code",
   "execution_count": 10,
   "metadata": {},
   "outputs": [],
   "source": [
    "# Embeddings\n",
    "embeddings = HuggingFaceEmbeddings()"
   ]
  },
  {
   "cell_type": "code",
   "execution_count": 11,
   "metadata": {},
   "outputs": [
    {
     "data": {
      "text/plain": [
       "[Document(page_content='What Is Autism Screening?\\n\\nAutism screening refers to the process of identifying individuals who may be at risk for autism spectrum disorder (ASD) or who may exhibit early signs of the condition. The primary goal of screening is to identify individuals who may benefit from further, more in-depth assessments or evaluations.\\n\\nAutism screening is usually administered by a pediatrician during a routine well-child checkup. The doctor may observe the child or ask you questions about his or her behaviors at home and while interacting with other children on the playground. The purpose of an autism screening is to identify common early signs of autism. The following are early signs of autism, however, they do not necessarily need to be present.\\n\\nDelays in communicating with others including speech and gestures\\n\\nNot responding to one’s own name\\n\\nGetting upset over minor changes in routine\\n\\nAvoiding many, if not most, forms of physical contact\\n\\nShowing little interest in objects or people', metadata={'source': 'contexts/ASD_screen.txt'}),\n",
       " Document(page_content='The American Academy of Pediatrics (AAP) suggests that autism screenings should be part of standard 18 and 24\\n\\nmonth well\\n\\nchild checkups, whereas the National Center on Birth Defects and Developmental Disabilities  (NCBDD) recommends that all children be screened at 9, 18, and 24 or 30 months.\\n\\nScreenings administered during well-child checkups are only designed to indicate whether a child may be showing some early signs of autism. These screenings identify areas requiring further assessment and do not replace a formal diagnosis. Although many doctors follow the AAP and NCBDD guidelines, parents should also be proactive. If you suspect your child may have autism,  please ask your child’s pediatrician to administer screening or request a referral to a qualified specialist.', metadata={'source': 'contexts/ASD_screen.txt'}),\n",
       " Document(page_content='Signs and Symptoms of Autism Spectrum Disorder Autism spectrum disorder (ASD) is a developmental disability caused by differences in the brain. People with ASD often have problems with social communication and interaction, and restricted or repetitive behaviors or interests. People with ASD may also have different ways of learning, moving, or paying attention. It is important to note that some people without ASD might also have some of these symptoms. But for people with ASD, these characteristics can make life very challenging.\\n\\nSocial Communication and Interaction Skills Social communication and interaction skills can be challenging for people with ASD.\\n\\nExamples of social communication and social interaction characteristics related to ASD can include\\n\\nAvoids or does not keep eye contact\\n\\nDoes not respond to name by 9 months of age\\n\\nDoes not show facial expressions like happy, sad, angry, and surprised by 9 months of age\\n\\nDoes not play simple interactive games like pat\\n\\na', metadata={'source': 'contexts/ASD_symptoms.txt'}),\n",
       " Document(page_content='ASD begins before the age of 3 years and can last throughout a person’s life, although symptoms may improve over time. Some children show ASD symptoms within the first 12 months of life. In others, symptoms may not show up until 24 months of age or later. Some children with ASD gain new skills and meet developmental milestones until around 18 to 24 months of age, and then they stop gaining new skills or lose the skills they once had.\\n\\nAs children with ASD become adolescents and young adults, they may have difficulties developing and maintaining friendships, communicating with peers and adults, or understanding what behaviors are expected in school or on the job. They may come to the attention of healthcare providers because they also have conditions such as anxiety, depression, or attention-deficit/hyperactivity disorder, which occur more often in people with ASD than in people without ASD.', metadata={'source': 'contexts/ASD_general.txt'})]"
      ]
     },
     "execution_count": 11,
     "metadata": {},
     "output_type": "execute_result"
    }
   ],
   "source": [
    "db = FAISS.from_documents(docs_split, embeddings)\n",
    "query = \"My teenager had a screening for autism. Where can I go for depression therapy services? \"\n",
    "docs = db.similarity_search(query)\n",
    "\n",
    "docs\n",
    "\n",
    "# for i in range(4):\n",
    "#     print(\"\\n\")\n",
    "#     print(docs[i].page_content)"
   ]
  }
 ],
 "metadata": {
  "kernelspec": {
   "display_name": "Python 3 (ipykernel)",
   "language": "python",
   "name": "python3"
  },
  "language_info": {
   "codemirror_mode": {
    "name": "ipython",
    "version": 3
   },
   "file_extension": ".py",
   "mimetype": "text/x-python",
   "name": "python",
   "nbconvert_exporter": "python",
   "pygments_lexer": "ipython3",
   "version": "3.10.6"
  }
 },
 "nbformat": 4,
 "nbformat_minor": 2
}
