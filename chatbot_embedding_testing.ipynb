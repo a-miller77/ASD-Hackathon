{
 "cells": [
  {
   "cell_type": "code",
   "execution_count": null,
   "metadata": {},
   "outputs": [],
   "source": [
    "# %pip install langchain\n",
    "# %pip install huggingface_hub\n",
    "# %pip install sentence_transformers\n",
    "# %pip install faiss-cpu\n",
    "# %pip install unstructured\n",
    "# %pip install chromadb\n",
    "# %pip install Cython\n",
    "# %pip install tiktoken\n",
    "# %pip install unstructured[local-inference]\n",
    "# %pip install qdrant-client"
   ]
  },
  {
   "cell_type": "code",
   "execution_count": null,
   "metadata": {},
   "outputs": [],
   "source": [
    "import os\n",
    "import requests\n",
    "import faiss\n",
    "import torch\n",
    "\n",
    "from langchain.embeddings import HuggingFaceEmbeddings #for using HugginFace models\n",
    "# Vectorstore: https://python.langchain.com/en/latest/modules/indexes/vectorstores.html\n",
    "from langchain.vectorstores import FAISS  #facebook vectorizationfrom langchain.chains.question_answering import load_qa_chain\n",
    "from langchain.chains.question_answering import load_qa_chain\n",
    "from langchain.document_loaders import DirectoryLoader\n",
    "from langchain.document_loaders import TextLoader\n",
    "from langchain.embeddings import HuggingFaceEmbeddings\n",
    "\n",
    "from LangChain_chatbot_util import read_api_key\n",
    "\n",
    "from langchain.text_splitter import CharacterTextSplitter\n",
    "\n",
    "os.environ[\"HUGGINGFACEHUB_API_TOKEN\"] = read_api_key()\n",
    "\n",
    "from langchain import HuggingFacePipeline\n",
    "from langchain import PromptTemplate,  LLMChain\n",
    "\n",
    "from langchain.memory import ConversationBufferMemory\n",
    "from langchain import LLMChain, PromptTemplate\n",
    "\n",
    "from transformers import AutoTokenizer, AutoModel\n",
    "\n",
    "import pandas as pd"
   ]
  },
  {
   "cell_type": "code",
   "execution_count": null,
   "metadata": {},
   "outputs": [],
   "source": [
    "loader = DirectoryLoader('./contexts', glob=\"./*.txt\")\n",
    " \n",
    "docs = loader.load()"
   ]
  },
  {
   "cell_type": "code",
   "execution_count": null,
   "metadata": {},
   "outputs": [],
   "source": [
    "print(docs[0].page_content)"
   ]
  },
  {
   "cell_type": "code",
   "execution_count": null,
   "metadata": {},
   "outputs": [],
   "source": [
    "text_splitter = CharacterTextSplitter(\n",
    "    chunk_size=600,\n",
    "    chunk_overlap=0\n",
    ")\n",
    "\n",
    "docs_split = text_splitter.split_documents(docs)\n",
    "docs_split"
   ]
  },
  {
   "cell_type": "code",
   "execution_count": null,
   "metadata": {},
   "outputs": [],
   "source": [
    "# Embeddings\n",
    "embeddings = HuggingFaceEmbeddings()"
   ]
  },
  {
   "cell_type": "code",
   "execution_count": null,
   "metadata": {},
   "outputs": [],
   "source": [
    "db = FAISS.from_documents(docs_split, embeddings)\n",
    "query = \"My teenager had a screening for autism. Where can I go for depression therapy services? \"\n",
    "docs_similar = db.similarity_search_with_score(query)\n",
    "\n",
    "doc0, sim = docs_similar[0]\n",
    "sim\n",
    "# for i in range(4):\n",
    "#     print(\"\\n\")\n",
    "#     print(docs[i].page_content)"
   ]
  },
  {
   "cell_type": "code",
   "execution_count": null,
   "metadata": {},
   "outputs": [],
   "source": [
    "def get_similarity(query, doc):\n",
    "    db = FAISS.from_documents(doc, HuggingFaceEmbeddings())\n",
    "    db_docs = db.similarity_search_with_score(query)\n",
    "    simularity_list = []\n",
    "    doc_list = []\n",
    "    \n",
    "    for item in db_docs:\n",
    "        simularity, doc = item\n",
    "        simularity_list.append(simularity)\n",
    "        doc_list.append(doc)\n",
    "    return simularity_list, doc_list"
   ]
  },
  {
   "cell_type": "code",
   "execution_count": null,
   "metadata": {},
   "outputs": [],
   "source": [
    "sim, doc = get_similarity(\"My child keeps eating legos. Is he Autstic\", docs_split)"
   ]
  },
  {
   "cell_type": "code",
   "execution_count": null,
   "metadata": {},
   "outputs": [],
   "source": [
    "df = pd.DataFrame({\"Document\":doc, \"Simularity\": sim})\n",
    "df.head()"
   ]
  },
  {
   "cell_type": "code",
   "execution_count": null,
   "metadata": {},
   "outputs": [],
   "source": [
    "prompt = \"My child keeps eating legos. Is he Autstic\"\n",
    "similarity_scores, indices = get_similarity(prompt, db)\n",
    "\n",
    "# Print the similarity scores and corresponding document indices\n",
    "print(\"Similarity Scores:\", similarity_scores)\n",
    "print(\"Document Indices:\", indices)"
   ]
  },
  {
   "cell_type": "code",
   "execution_count": null,
   "metadata": {},
   "outputs": [],
   "source": [
    "index = faiss.IndexFlatL2()"
   ]
  }
 ],
 "metadata": {
  "kernelspec": {
   "display_name": "Python 3 (ipykernel)",
   "language": "python",
   "name": "python3"
  }
 },
 "nbformat": 4,
 "nbformat_minor": 2
}
