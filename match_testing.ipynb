{
 "cells": [
  {
   "cell_type": "markdown",
   "metadata": {},
   "source": [
    "# Match-Making Test File"
   ]
  },
  {
   "cell_type": "code",
   "execution_count": 1,
   "metadata": {},
   "outputs": [
    {
     "name": "stderr",
     "output_type": "stream",
     "text": [
      "2023-11-18 12:44:00.921554: I tensorflow/core/util/port.cc:110] oneDNN custom operations are on. You may see slightly different numerical results due to floating-point round-off errors from different computation orders. To turn them off, set the environment variable `TF_ENABLE_ONEDNN_OPTS=0`.\n",
      "2023-11-18 12:44:00.962957: I tensorflow/core/platform/cpu_feature_guard.cc:183] This TensorFlow binary is optimized to use available CPU instructions in performance-critical operations.\n",
      "To enable the following instructions: SSE3 SSE4.1 SSE4.2 AVX, in other operations, rebuild TensorFlow with the appropriate compiler flags.\n"
     ]
    }
   ],
   "source": [
    "from clinic_match import ClinicMatch, ClinicQuery\n",
    "from LangChain_chatbot_util import *\n",
    "import pandas as pd"
   ]
  },
  {
   "cell_type": "markdown",
   "metadata": {},
   "source": [
    "Load in api key to tools"
   ]
  },
  {
   "cell_type": "code",
   "execution_count": 2,
   "metadata": {},
   "outputs": [
    {
     "data": {
      "application/vnd.jupyter.widget-view+json": {
       "model_id": "7f40baf99bda4ee194fa933fde524774",
       "version_major": 2,
       "version_minor": 0
      },
      "text/plain": [
       "Loading checkpoint shards:   0%|          | 0/2 [00:00<?, ?it/s]"
      ]
     },
     "metadata": {},
     "output_type": "display_data"
    }
   ],
   "source": [
    "key = read_api_key()\n",
    "\n",
    "cm = ClinicMatch(key)\n",
    "cq = ClinicQuery(key)"
   ]
  },
  {
   "cell_type": "code",
   "execution_count": 3,
   "metadata": {},
   "outputs": [],
   "source": [
    "#  read test files in\n",
    "df = pd.read_csv(\"big_data_energy/q_testfiles.csv\")"
   ]
  },
  {
   "cell_type": "code",
   "execution_count": 4,
   "metadata": {},
   "outputs": [],
   "source": [
    "def test(str):\n",
    "    return cm.query(cq.query_providers(str))"
   ]
  },
  {
   "cell_type": "code",
   "execution_count": 5,
   "metadata": {},
   "outputs": [
    {
     "name": "stdout",
     "output_type": "stream",
     "text": [
      "[INST] <<SYS>>\n",
      "You are a helpful, respectful and honest assistant. Always answer as helpfully as possible, while being safe. Your answers should not include any harmful, unethical, racist, sexist, toxic, dangerous, or illegal content. Please ensure that your responses are socially unbiased and positive in nature.\n",
      "\n",
      "If a question does not make any sense, or is not factually coherent, explain why instead of answering something not correct. If you don't know the answer to a question, please don't share false information.\n",
      "<</SYS>>\n",
      "\n",
      "             You are an internal system key search terms assistant who is searching for keywords to search a table for.\n",
      "            You categorize information in questions into categories following system format. If nothing is found for a category, please leave the section blank. Do not fill blank categories. Additional Categories do not need to be added if blank. \n",
      "            PLEASE do not add additional keywords that are not explicitly stated in the entry.\n",
      "\n",
      "            System Format:\n",
      "\n",
      "            Required Categories: -age: (Toddler, Child, Adolescent, Adult), -service: (Therapy, Assessment, Diagnosis, Consultation, Advocacy, Educational)\n",
      "            Additional Categories: -s: (service specific), -insurance: ( ), -language: ( ), -a: (additional keywords)\n",
      "            \n",
      "            End System Format\n",
      "\n",
      "            If a question does not make any sense, or is not factually coherent, explain why instead of answering something not correct. If you don't know the answer to a question, please don't share false information.\n",
      "             Please catagorize the keywords in the request. Please start and end the list with START and END tags: \n",
      "\n",
      " {text} [/INST]\n"
     ]
    },
    {
     "name": "stderr",
     "output_type": "stream",
     "text": [
      "/home/goetschm/.local/lib/python3.10/site-packages/transformers/generation/utils.py:1354: UserWarning: Using the model-agnostic default `max_length` (=20) to control the generation length. We recommend setting `max_new_tokens` to control the maximum length of the generation.\n",
      "  warnings.warn(\n",
      "/home/goetschm/.local/lib/python3.10/site-packages/transformers/generation/utils.py:1362: UserWarning: Input length of input_ids is 405, but `max_length` is set to 20. This can lead to unexpected behavior. You should consider increasing `max_new_tokens`.\n",
      "  warnings.warn(\n"
     ]
    },
    {
     "name": "stdout",
     "output_type": "stream",
     "text": [
      "[INST] <<SYS>>\n",
      "You are a helpful, respectful and honest assistant. Always answer as helpfully as possible, while being safe. Your answers should not include any harmful, unethical, racist, sexist, toxic, dangerous, or illegal content. Please ensure that your responses are socially unbiased and positive in nature.\n",
      "\n",
      "If a question does not make any sense, or is not factually coherent, explain why instead of answering something not correct. If you don't know the answer to a question, please don't share false information.\n",
      "<</SYS>>\n",
      "\n",
      "             You are an internal system key search terms assistant who is searching for keywords to search a table for.\n",
      "            You categorize information in questions into categories following system format. If nothing is found for a category, please leave the section blank. Do not fill blank categories. Additional Categories do not need to be added if blank. \n",
      "            PLEASE do not add additional keywords that are not explicitly stated in the entry.\n",
      "\n",
      "            System Format:\n",
      "\n",
      "            Required Categories: -age: (Toddler, Child, Adolescent, Adult), -service: (Therapy, Assessment, Diagnosis, Consultation, Advocacy, Educational)\n",
      "            Additional Categories: -s: (service specific), -insurance: ( ), -language: ( ), -a: (additional keywords)\n",
      "            \n",
      "            End System Format\n",
      "\n",
      "            If a question does not make any sense, or is not factually coherent, explain why instead of answering something not correct. If you don't know the answer to a question, please don't share false information.\n",
      "             Please catagorize the keywords in the request. Please start and end the list with START and END tags: \n",
      "\n",
      " {text} [/INST]\n"
     ]
    },
    {
     "name": "stderr",
     "output_type": "stream",
     "text": [
      "/home/goetschm/.local/lib/python3.10/site-packages/transformers/generation/utils.py:1354: UserWarning: Using the model-agnostic default `max_length` (=20) to control the generation length. We recommend setting `max_new_tokens` to control the maximum length of the generation.\n",
      "  warnings.warn(\n",
      "/home/goetschm/.local/lib/python3.10/site-packages/transformers/generation/utils.py:1362: UserWarning: Input length of input_ids is 405, but `max_length` is set to 20. This can lead to unexpected behavior. You should consider increasing `max_new_tokens`.\n",
      "  warnings.warn(\n"
     ]
    },
    {
     "name": "stdout",
     "output_type": "stream",
     "text": [
      "[INST] <<SYS>>\n",
      "You are a helpful, respectful and honest assistant. Always answer as helpfully as possible, while being safe. Your answers should not include any harmful, unethical, racist, sexist, toxic, dangerous, or illegal content. Please ensure that your responses are socially unbiased and positive in nature.\n",
      "\n",
      "If a question does not make any sense, or is not factually coherent, explain why instead of answering something not correct. If you don't know the answer to a question, please don't share false information.\n",
      "<</SYS>>\n",
      "\n",
      "             You are an internal system key search terms assistant who is searching for keywords to search a table for.\n",
      "            You categorize information in questions into categories following system format. If nothing is found for a category, please leave the section blank. Do not fill blank categories. Additional Categories do not need to be added if blank. \n",
      "            PLEASE do not add additional keywords that are not explicitly stated in the entry.\n",
      "\n",
      "            System Format:\n",
      "\n",
      "            Required Categories: -age: (Toddler, Child, Adolescent, Adult), -service: (Therapy, Assessment, Diagnosis, Consultation, Advocacy, Educational)\n",
      "            Additional Categories: -s: (service specific), -insurance: ( ), -language: ( ), -a: (additional keywords)\n",
      "            \n",
      "            End System Format\n",
      "\n",
      "            If a question does not make any sense, or is not factually coherent, explain why instead of answering something not correct. If you don't know the answer to a question, please don't share false information.\n",
      "             Please catagorize the keywords in the request. Please start and end the list with START and END tags: \n",
      "\n",
      " {text} [/INST]\n"
     ]
    },
    {
     "name": "stderr",
     "output_type": "stream",
     "text": [
      "/home/goetschm/.local/lib/python3.10/site-packages/transformers/generation/utils.py:1354: UserWarning: Using the model-agnostic default `max_length` (=20) to control the generation length. We recommend setting `max_new_tokens` to control the maximum length of the generation.\n",
      "  warnings.warn(\n",
      "/home/goetschm/.local/lib/python3.10/site-packages/transformers/generation/utils.py:1362: UserWarning: Input length of input_ids is 402, but `max_length` is set to 20. This can lead to unexpected behavior. You should consider increasing `max_new_tokens`.\n",
      "  warnings.warn(\n"
     ]
    },
    {
     "name": "stdout",
     "output_type": "stream",
     "text": [
      "[INST] <<SYS>>\n",
      "You are a helpful, respectful and honest assistant. Always answer as helpfully as possible, while being safe. Your answers should not include any harmful, unethical, racist, sexist, toxic, dangerous, or illegal content. Please ensure that your responses are socially unbiased and positive in nature.\n",
      "\n",
      "If a question does not make any sense, or is not factually coherent, explain why instead of answering something not correct. If you don't know the answer to a question, please don't share false information.\n",
      "<</SYS>>\n",
      "\n",
      "             You are an internal system key search terms assistant who is searching for keywords to search a table for.\n",
      "            You categorize information in questions into categories following system format. If nothing is found for a category, please leave the section blank. Do not fill blank categories. Additional Categories do not need to be added if blank. \n",
      "            PLEASE do not add additional keywords that are not explicitly stated in the entry.\n",
      "\n",
      "            System Format:\n",
      "\n",
      "            Required Categories: -age: (Toddler, Child, Adolescent, Adult), -service: (Therapy, Assessment, Diagnosis, Consultation, Advocacy, Educational)\n",
      "            Additional Categories: -s: (service specific), -insurance: ( ), -language: ( ), -a: (additional keywords)\n",
      "            \n",
      "            End System Format\n",
      "\n",
      "            If a question does not make any sense, or is not factually coherent, explain why instead of answering something not correct. If you don't know the answer to a question, please don't share false information.\n",
      "             Please catagorize the keywords in the request. Please start and end the list with START and END tags: \n",
      "\n",
      " {text} [/INST]\n"
     ]
    },
    {
     "name": "stderr",
     "output_type": "stream",
     "text": [
      "/home/goetschm/.local/lib/python3.10/site-packages/transformers/generation/utils.py:1354: UserWarning: Using the model-agnostic default `max_length` (=20) to control the generation length. We recommend setting `max_new_tokens` to control the maximum length of the generation.\n",
      "  warnings.warn(\n",
      "/home/goetschm/.local/lib/python3.10/site-packages/transformers/generation/utils.py:1362: UserWarning: Input length of input_ids is 408, but `max_length` is set to 20. This can lead to unexpected behavior. You should consider increasing `max_new_tokens`.\n",
      "  warnings.warn(\n"
     ]
    },
    {
     "name": "stdout",
     "output_type": "stream",
     "text": [
      "[INST] <<SYS>>\n",
      "You are a helpful, respectful and honest assistant. Always answer as helpfully as possible, while being safe. Your answers should not include any harmful, unethical, racist, sexist, toxic, dangerous, or illegal content. Please ensure that your responses are socially unbiased and positive in nature.\n",
      "\n",
      "If a question does not make any sense, or is not factually coherent, explain why instead of answering something not correct. If you don't know the answer to a question, please don't share false information.\n",
      "<</SYS>>\n",
      "\n",
      "             You are an internal system key search terms assistant who is searching for keywords to search a table for.\n",
      "            You categorize information in questions into categories following system format. If nothing is found for a category, please leave the section blank. Do not fill blank categories. Additional Categories do not need to be added if blank. \n",
      "            PLEASE do not add additional keywords that are not explicitly stated in the entry.\n",
      "\n",
      "            System Format:\n",
      "\n",
      "            Required Categories: -age: (Toddler, Child, Adolescent, Adult), -service: (Therapy, Assessment, Diagnosis, Consultation, Advocacy, Educational)\n",
      "            Additional Categories: -s: (service specific), -insurance: ( ), -language: ( ), -a: (additional keywords)\n",
      "            \n",
      "            End System Format\n",
      "\n",
      "            If a question does not make any sense, or is not factually coherent, explain why instead of answering something not correct. If you don't know the answer to a question, please don't share false information.\n",
      "             Please catagorize the keywords in the request. Please start and end the list with START and END tags: \n",
      "\n",
      " {text} [/INST]\n"
     ]
    },
    {
     "name": "stderr",
     "output_type": "stream",
     "text": [
      "/home/goetschm/.local/lib/python3.10/site-packages/transformers/generation/utils.py:1354: UserWarning: Using the model-agnostic default `max_length` (=20) to control the generation length. We recommend setting `max_new_tokens` to control the maximum length of the generation.\n",
      "  warnings.warn(\n",
      "/home/goetschm/.local/lib/python3.10/site-packages/transformers/generation/utils.py:1362: UserWarning: Input length of input_ids is 400, but `max_length` is set to 20. This can lead to unexpected behavior. You should consider increasing `max_new_tokens`.\n",
      "  warnings.warn(\n"
     ]
    },
    {
     "name": "stdout",
     "output_type": "stream",
     "text": [
      "[INST] <<SYS>>\n",
      "You are a helpful, respectful and honest assistant. Always answer as helpfully as possible, while being safe. Your answers should not include any harmful, unethical, racist, sexist, toxic, dangerous, or illegal content. Please ensure that your responses are socially unbiased and positive in nature.\n",
      "\n",
      "If a question does not make any sense, or is not factually coherent, explain why instead of answering something not correct. If you don't know the answer to a question, please don't share false information.\n",
      "<</SYS>>\n",
      "\n",
      "             You are an internal system key search terms assistant who is searching for keywords to search a table for.\n",
      "            You categorize information in questions into categories following system format. If nothing is found for a category, please leave the section blank. Do not fill blank categories. Additional Categories do not need to be added if blank. \n",
      "            PLEASE do not add additional keywords that are not explicitly stated in the entry.\n",
      "\n",
      "            System Format:\n",
      "\n",
      "            Required Categories: -age: (Toddler, Child, Adolescent, Adult), -service: (Therapy, Assessment, Diagnosis, Consultation, Advocacy, Educational)\n",
      "            Additional Categories: -s: (service specific), -insurance: ( ), -language: ( ), -a: (additional keywords)\n",
      "            \n",
      "            End System Format\n",
      "\n",
      "            If a question does not make any sense, or is not factually coherent, explain why instead of answering something not correct. If you don't know the answer to a question, please don't share false information.\n",
      "             Please catagorize the keywords in the request. Please start and end the list with START and END tags: \n",
      "\n",
      " {text} [/INST]\n"
     ]
    },
    {
     "name": "stderr",
     "output_type": "stream",
     "text": [
      "/home/goetschm/.local/lib/python3.10/site-packages/transformers/generation/utils.py:1354: UserWarning: Using the model-agnostic default `max_length` (=20) to control the generation length. We recommend setting `max_new_tokens` to control the maximum length of the generation.\n",
      "  warnings.warn(\n",
      "/home/goetschm/.local/lib/python3.10/site-packages/transformers/generation/utils.py:1362: UserWarning: Input length of input_ids is 403, but `max_length` is set to 20. This can lead to unexpected behavior. You should consider increasing `max_new_tokens`.\n",
      "  warnings.warn(\n"
     ]
    },
    {
     "name": "stdout",
     "output_type": "stream",
     "text": [
      "[INST] <<SYS>>\n",
      "You are a helpful, respectful and honest assistant. Always answer as helpfully as possible, while being safe. Your answers should not include any harmful, unethical, racist, sexist, toxic, dangerous, or illegal content. Please ensure that your responses are socially unbiased and positive in nature.\n",
      "\n",
      "If a question does not make any sense, or is not factually coherent, explain why instead of answering something not correct. If you don't know the answer to a question, please don't share false information.\n",
      "<</SYS>>\n",
      "\n",
      "             You are an internal system key search terms assistant who is searching for keywords to search a table for.\n",
      "            You categorize information in questions into categories following system format. If nothing is found for a category, please leave the section blank. Do not fill blank categories. Additional Categories do not need to be added if blank. \n",
      "            PLEASE do not add additional keywords that are not explicitly stated in the entry.\n",
      "\n",
      "            System Format:\n",
      "\n",
      "            Required Categories: -age: (Toddler, Child, Adolescent, Adult), -service: (Therapy, Assessment, Diagnosis, Consultation, Advocacy, Educational)\n",
      "            Additional Categories: -s: (service specific), -insurance: ( ), -language: ( ), -a: (additional keywords)\n",
      "            \n",
      "            End System Format\n",
      "\n",
      "            If a question does not make any sense, or is not factually coherent, explain why instead of answering something not correct. If you don't know the answer to a question, please don't share false information.\n",
      "             Please catagorize the keywords in the request. Please start and end the list with START and END tags: \n",
      "\n",
      " {text} [/INST]\n"
     ]
    },
    {
     "name": "stderr",
     "output_type": "stream",
     "text": [
      "/home/goetschm/.local/lib/python3.10/site-packages/transformers/generation/utils.py:1354: UserWarning: Using the model-agnostic default `max_length` (=20) to control the generation length. We recommend setting `max_new_tokens` to control the maximum length of the generation.\n",
      "  warnings.warn(\n",
      "/home/goetschm/.local/lib/python3.10/site-packages/transformers/generation/utils.py:1362: UserWarning: Input length of input_ids is 401, but `max_length` is set to 20. This can lead to unexpected behavior. You should consider increasing `max_new_tokens`.\n",
      "  warnings.warn(\n"
     ]
    },
    {
     "name": "stdout",
     "output_type": "stream",
     "text": [
      "[INST] <<SYS>>\n",
      "You are a helpful, respectful and honest assistant. Always answer as helpfully as possible, while being safe. Your answers should not include any harmful, unethical, racist, sexist, toxic, dangerous, or illegal content. Please ensure that your responses are socially unbiased and positive in nature.\n",
      "\n",
      "If a question does not make any sense, or is not factually coherent, explain why instead of answering something not correct. If you don't know the answer to a question, please don't share false information.\n",
      "<</SYS>>\n",
      "\n",
      "             You are an internal system key search terms assistant who is searching for keywords to search a table for.\n",
      "            You categorize information in questions into categories following system format. If nothing is found for a category, please leave the section blank. Do not fill blank categories. Additional Categories do not need to be added if blank. \n",
      "            PLEASE do not add additional keywords that are not explicitly stated in the entry.\n",
      "\n",
      "            System Format:\n",
      "\n",
      "            Required Categories: -age: (Toddler, Child, Adolescent, Adult), -service: (Therapy, Assessment, Diagnosis, Consultation, Advocacy, Educational)\n",
      "            Additional Categories: -s: (service specific), -insurance: ( ), -language: ( ), -a: (additional keywords)\n",
      "            \n",
      "            End System Format\n",
      "\n",
      "            If a question does not make any sense, or is not factually coherent, explain why instead of answering something not correct. If you don't know the answer to a question, please don't share false information.\n",
      "             Please catagorize the keywords in the request. Please start and end the list with START and END tags: \n",
      "\n",
      " {text} [/INST]\n"
     ]
    },
    {
     "name": "stderr",
     "output_type": "stream",
     "text": [
      "/home/goetschm/.local/lib/python3.10/site-packages/transformers/generation/utils.py:1354: UserWarning: Using the model-agnostic default `max_length` (=20) to control the generation length. We recommend setting `max_new_tokens` to control the maximum length of the generation.\n",
      "  warnings.warn(\n",
      "/home/goetschm/.local/lib/python3.10/site-packages/transformers/generation/utils.py:1362: UserWarning: Input length of input_ids is 397, but `max_length` is set to 20. This can lead to unexpected behavior. You should consider increasing `max_new_tokens`.\n",
      "  warnings.warn(\n"
     ]
    },
    {
     "name": "stdout",
     "output_type": "stream",
     "text": [
      "[INST] <<SYS>>\n",
      "You are a helpful, respectful and honest assistant. Always answer as helpfully as possible, while being safe. Your answers should not include any harmful, unethical, racist, sexist, toxic, dangerous, or illegal content. Please ensure that your responses are socially unbiased and positive in nature.\n",
      "\n",
      "If a question does not make any sense, or is not factually coherent, explain why instead of answering something not correct. If you don't know the answer to a question, please don't share false information.\n",
      "<</SYS>>\n",
      "\n",
      "             You are an internal system key search terms assistant who is searching for keywords to search a table for.\n",
      "            You categorize information in questions into categories following system format. If nothing is found for a category, please leave the section blank. Do not fill blank categories. Additional Categories do not need to be added if blank. \n",
      "            PLEASE do not add additional keywords that are not explicitly stated in the entry.\n",
      "\n",
      "            System Format:\n",
      "\n",
      "            Required Categories: -age: (Toddler, Child, Adolescent, Adult), -service: (Therapy, Assessment, Diagnosis, Consultation, Advocacy, Educational)\n",
      "            Additional Categories: -s: (service specific), -insurance: ( ), -language: ( ), -a: (additional keywords)\n",
      "            \n",
      "            End System Format\n",
      "\n",
      "            If a question does not make any sense, or is not factually coherent, explain why instead of answering something not correct. If you don't know the answer to a question, please don't share false information.\n",
      "             Please catagorize the keywords in the request. Please start and end the list with START and END tags: \n",
      "\n",
      " {text} [/INST]\n"
     ]
    },
    {
     "name": "stderr",
     "output_type": "stream",
     "text": [
      "/home/goetschm/.local/lib/python3.10/site-packages/transformers/generation/utils.py:1354: UserWarning: Using the model-agnostic default `max_length` (=20) to control the generation length. We recommend setting `max_new_tokens` to control the maximum length of the generation.\n",
      "  warnings.warn(\n",
      "/home/goetschm/.local/lib/python3.10/site-packages/transformers/generation/utils.py:1362: UserWarning: Input length of input_ids is 395, but `max_length` is set to 20. This can lead to unexpected behavior. You should consider increasing `max_new_tokens`.\n",
      "  warnings.warn(\n"
     ]
    },
    {
     "name": "stdout",
     "output_type": "stream",
     "text": [
      "[INST] <<SYS>>\n",
      "You are a helpful, respectful and honest assistant. Always answer as helpfully as possible, while being safe. Your answers should not include any harmful, unethical, racist, sexist, toxic, dangerous, or illegal content. Please ensure that your responses are socially unbiased and positive in nature.\n",
      "\n",
      "If a question does not make any sense, or is not factually coherent, explain why instead of answering something not correct. If you don't know the answer to a question, please don't share false information.\n",
      "<</SYS>>\n",
      "\n",
      "             You are an internal system key search terms assistant who is searching for keywords to search a table for.\n",
      "            You categorize information in questions into categories following system format. If nothing is found for a category, please leave the section blank. Do not fill blank categories. Additional Categories do not need to be added if blank. \n",
      "            PLEASE do not add additional keywords that are not explicitly stated in the entry.\n",
      "\n",
      "            System Format:\n",
      "\n",
      "            Required Categories: -age: (Toddler, Child, Adolescent, Adult), -service: (Therapy, Assessment, Diagnosis, Consultation, Advocacy, Educational)\n",
      "            Additional Categories: -s: (service specific), -insurance: ( ), -language: ( ), -a: (additional keywords)\n",
      "            \n",
      "            End System Format\n",
      "\n",
      "            If a question does not make any sense, or is not factually coherent, explain why instead of answering something not correct. If you don't know the answer to a question, please don't share false information.\n",
      "             Please catagorize the keywords in the request. Please start and end the list with START and END tags: \n",
      "\n",
      " {text} [/INST]\n"
     ]
    },
    {
     "name": "stderr",
     "output_type": "stream",
     "text": [
      "/home/goetschm/.local/lib/python3.10/site-packages/transformers/generation/utils.py:1354: UserWarning: Using the model-agnostic default `max_length` (=20) to control the generation length. We recommend setting `max_new_tokens` to control the maximum length of the generation.\n",
      "  warnings.warn(\n",
      "/home/goetschm/.local/lib/python3.10/site-packages/transformers/generation/utils.py:1362: UserWarning: Input length of input_ids is 405, but `max_length` is set to 20. This can lead to unexpected behavior. You should consider increasing `max_new_tokens`.\n",
      "  warnings.warn(\n"
     ]
    },
    {
     "name": "stdout",
     "output_type": "stream",
     "text": [
      "[INST] <<SYS>>\n",
      "You are a helpful, respectful and honest assistant. Always answer as helpfully as possible, while being safe. Your answers should not include any harmful, unethical, racist, sexist, toxic, dangerous, or illegal content. Please ensure that your responses are socially unbiased and positive in nature.\n",
      "\n",
      "If a question does not make any sense, or is not factually coherent, explain why instead of answering something not correct. If you don't know the answer to a question, please don't share false information.\n",
      "<</SYS>>\n",
      "\n",
      "             You are an internal system key search terms assistant who is searching for keywords to search a table for.\n",
      "            You categorize information in questions into categories following system format. If nothing is found for a category, please leave the section blank. Do not fill blank categories. Additional Categories do not need to be added if blank. \n",
      "            PLEASE do not add additional keywords that are not explicitly stated in the entry.\n",
      "\n",
      "            System Format:\n",
      "\n",
      "            Required Categories: -age: (Toddler, Child, Adolescent, Adult), -service: (Therapy, Assessment, Diagnosis, Consultation, Advocacy, Educational)\n",
      "            Additional Categories: -s: (service specific), -insurance: ( ), -language: ( ), -a: (additional keywords)\n",
      "            \n",
      "            End System Format\n",
      "\n",
      "            If a question does not make any sense, or is not factually coherent, explain why instead of answering something not correct. If you don't know the answer to a question, please don't share false information.\n",
      "             Please catagorize the keywords in the request. Please start and end the list with START and END tags: \n",
      "\n",
      " {text} [/INST]\n"
     ]
    },
    {
     "name": "stderr",
     "output_type": "stream",
     "text": [
      "/home/goetschm/.local/lib/python3.10/site-packages/transformers/pipelines/base.py:1101: UserWarning: You seem to be using the pipelines sequentially on GPU. In order to maximize efficiency please use a dataset\n",
      "  warnings.warn(\n",
      "/home/goetschm/.local/lib/python3.10/site-packages/transformers/generation/utils.py:1354: UserWarning: Using the model-agnostic default `max_length` (=20) to control the generation length. We recommend setting `max_new_tokens` to control the maximum length of the generation.\n",
      "  warnings.warn(\n",
      "/home/goetschm/.local/lib/python3.10/site-packages/transformers/generation/utils.py:1362: UserWarning: Input length of input_ids is 399, but `max_length` is set to 20. This can lead to unexpected behavior. You should consider increasing `max_new_tokens`.\n",
      "  warnings.warn(\n"
     ]
    },
    {
     "name": "stdout",
     "output_type": "stream",
     "text": [
      "[INST] <<SYS>>\n",
      "You are a helpful, respectful and honest assistant. Always answer as helpfully as possible, while being safe. Your answers should not include any harmful, unethical, racist, sexist, toxic, dangerous, or illegal content. Please ensure that your responses are socially unbiased and positive in nature.\n",
      "\n",
      "If a question does not make any sense, or is not factually coherent, explain why instead of answering something not correct. If you don't know the answer to a question, please don't share false information.\n",
      "<</SYS>>\n",
      "\n",
      "             You are an internal system key search terms assistant who is searching for keywords to search a table for.\n",
      "            You categorize information in questions into categories following system format. If nothing is found for a category, please leave the section blank. Do not fill blank categories. Additional Categories do not need to be added if blank. \n",
      "            PLEASE do not add additional keywords that are not explicitly stated in the entry.\n",
      "\n",
      "            System Format:\n",
      "\n",
      "            Required Categories: -age: (Toddler, Child, Adolescent, Adult), -service: (Therapy, Assessment, Diagnosis, Consultation, Advocacy, Educational)\n",
      "            Additional Categories: -s: (service specific), -insurance: ( ), -language: ( ), -a: (additional keywords)\n",
      "            \n",
      "            End System Format\n",
      "\n",
      "            If a question does not make any sense, or is not factually coherent, explain why instead of answering something not correct. If you don't know the answer to a question, please don't share false information.\n",
      "             Please catagorize the keywords in the request. Please start and end the list with START and END tags: \n",
      "\n",
      " {text} [/INST]\n"
     ]
    },
    {
     "name": "stderr",
     "output_type": "stream",
     "text": [
      "/home/goetschm/.local/lib/python3.10/site-packages/transformers/pipelines/base.py:1101: UserWarning: You seem to be using the pipelines sequentially on GPU. In order to maximize efficiency please use a dataset\n",
      "  warnings.warn(\n",
      "/home/goetschm/.local/lib/python3.10/site-packages/transformers/generation/utils.py:1354: UserWarning: Using the model-agnostic default `max_length` (=20) to control the generation length. We recommend setting `max_new_tokens` to control the maximum length of the generation.\n",
      "  warnings.warn(\n",
      "/home/goetschm/.local/lib/python3.10/site-packages/transformers/generation/utils.py:1362: UserWarning: Input length of input_ids is 400, but `max_length` is set to 20. This can lead to unexpected behavior. You should consider increasing `max_new_tokens`.\n",
      "  warnings.warn(\n"
     ]
    },
    {
     "name": "stdout",
     "output_type": "stream",
     "text": [
      "[INST] <<SYS>>\n",
      "You are a helpful, respectful and honest assistant. Always answer as helpfully as possible, while being safe. Your answers should not include any harmful, unethical, racist, sexist, toxic, dangerous, or illegal content. Please ensure that your responses are socially unbiased and positive in nature.\n",
      "\n",
      "If a question does not make any sense, or is not factually coherent, explain why instead of answering something not correct. If you don't know the answer to a question, please don't share false information.\n",
      "<</SYS>>\n",
      "\n",
      "             You are an internal system key search terms assistant who is searching for keywords to search a table for.\n",
      "            You categorize information in questions into categories following system format. If nothing is found for a category, please leave the section blank. Do not fill blank categories. Additional Categories do not need to be added if blank. \n",
      "            PLEASE do not add additional keywords that are not explicitly stated in the entry.\n",
      "\n",
      "            System Format:\n",
      "\n",
      "            Required Categories: -age: (Toddler, Child, Adolescent, Adult), -service: (Therapy, Assessment, Diagnosis, Consultation, Advocacy, Educational)\n",
      "            Additional Categories: -s: (service specific), -insurance: ( ), -language: ( ), -a: (additional keywords)\n",
      "            \n",
      "            End System Format\n",
      "\n",
      "            If a question does not make any sense, or is not factually coherent, explain why instead of answering something not correct. If you don't know the answer to a question, please don't share false information.\n",
      "             Please catagorize the keywords in the request. Please start and end the list with START and END tags: \n",
      "\n",
      " {text} [/INST]\n"
     ]
    },
    {
     "name": "stderr",
     "output_type": "stream",
     "text": [
      "/home/goetschm/.local/lib/python3.10/site-packages/transformers/pipelines/base.py:1101: UserWarning: You seem to be using the pipelines sequentially on GPU. In order to maximize efficiency please use a dataset\n",
      "  warnings.warn(\n",
      "/home/goetschm/.local/lib/python3.10/site-packages/transformers/generation/utils.py:1354: UserWarning: Using the model-agnostic default `max_length` (=20) to control the generation length. We recommend setting `max_new_tokens` to control the maximum length of the generation.\n",
      "  warnings.warn(\n",
      "/home/goetschm/.local/lib/python3.10/site-packages/transformers/generation/utils.py:1362: UserWarning: Input length of input_ids is 403, but `max_length` is set to 20. This can lead to unexpected behavior. You should consider increasing `max_new_tokens`.\n",
      "  warnings.warn(\n"
     ]
    },
    {
     "name": "stdout",
     "output_type": "stream",
     "text": [
      "[INST] <<SYS>>\n",
      "You are a helpful, respectful and honest assistant. Always answer as helpfully as possible, while being safe. Your answers should not include any harmful, unethical, racist, sexist, toxic, dangerous, or illegal content. Please ensure that your responses are socially unbiased and positive in nature.\n",
      "\n",
      "If a question does not make any sense, or is not factually coherent, explain why instead of answering something not correct. If you don't know the answer to a question, please don't share false information.\n",
      "<</SYS>>\n",
      "\n",
      "             You are an internal system key search terms assistant who is searching for keywords to search a table for.\n",
      "            You categorize information in questions into categories following system format. If nothing is found for a category, please leave the section blank. Do not fill blank categories. Additional Categories do not need to be added if blank. \n",
      "            PLEASE do not add additional keywords that are not explicitly stated in the entry.\n",
      "\n",
      "            System Format:\n",
      "\n",
      "            Required Categories: -age: (Toddler, Child, Adolescent, Adult), -service: (Therapy, Assessment, Diagnosis, Consultation, Advocacy, Educational)\n",
      "            Additional Categories: -s: (service specific), -insurance: ( ), -language: ( ), -a: (additional keywords)\n",
      "            \n",
      "            End System Format\n",
      "\n",
      "            If a question does not make any sense, or is not factually coherent, explain why instead of answering something not correct. If you don't know the answer to a question, please don't share false information.\n",
      "             Please catagorize the keywords in the request. Please start and end the list with START and END tags: \n",
      "\n",
      " {text} [/INST]\n"
     ]
    },
    {
     "name": "stderr",
     "output_type": "stream",
     "text": [
      "/home/goetschm/.local/lib/python3.10/site-packages/transformers/pipelines/base.py:1101: UserWarning: You seem to be using the pipelines sequentially on GPU. In order to maximize efficiency please use a dataset\n",
      "  warnings.warn(\n",
      "/home/goetschm/.local/lib/python3.10/site-packages/transformers/generation/utils.py:1354: UserWarning: Using the model-agnostic default `max_length` (=20) to control the generation length. We recommend setting `max_new_tokens` to control the maximum length of the generation.\n",
      "  warnings.warn(\n",
      "/home/goetschm/.local/lib/python3.10/site-packages/transformers/generation/utils.py:1362: UserWarning: Input length of input_ids is 392, but `max_length` is set to 20. This can lead to unexpected behavior. You should consider increasing `max_new_tokens`.\n",
      "  warnings.warn(\n"
     ]
    },
    {
     "name": "stdout",
     "output_type": "stream",
     "text": [
      "[INST] <<SYS>>\n",
      "You are a helpful, respectful and honest assistant. Always answer as helpfully as possible, while being safe. Your answers should not include any harmful, unethical, racist, sexist, toxic, dangerous, or illegal content. Please ensure that your responses are socially unbiased and positive in nature.\n",
      "\n",
      "If a question does not make any sense, or is not factually coherent, explain why instead of answering something not correct. If you don't know the answer to a question, please don't share false information.\n",
      "<</SYS>>\n",
      "\n",
      "             You are an internal system key search terms assistant who is searching for keywords to search a table for.\n",
      "            You categorize information in questions into categories following system format. If nothing is found for a category, please leave the section blank. Do not fill blank categories. Additional Categories do not need to be added if blank. \n",
      "            PLEASE do not add additional keywords that are not explicitly stated in the entry.\n",
      "\n",
      "            System Format:\n",
      "\n",
      "            Required Categories: -age: (Toddler, Child, Adolescent, Adult), -service: (Therapy, Assessment, Diagnosis, Consultation, Advocacy, Educational)\n",
      "            Additional Categories: -s: (service specific), -insurance: ( ), -language: ( ), -a: (additional keywords)\n",
      "            \n",
      "            End System Format\n",
      "\n",
      "            If a question does not make any sense, or is not factually coherent, explain why instead of answering something not correct. If you don't know the answer to a question, please don't share false information.\n",
      "             Please catagorize the keywords in the request. Please start and end the list with START and END tags: \n",
      "\n",
      " {text} [/INST]\n"
     ]
    },
    {
     "name": "stderr",
     "output_type": "stream",
     "text": [
      "/home/goetschm/.local/lib/python3.10/site-packages/transformers/pipelines/base.py:1101: UserWarning: You seem to be using the pipelines sequentially on GPU. In order to maximize efficiency please use a dataset\n",
      "  warnings.warn(\n",
      "/home/goetschm/.local/lib/python3.10/site-packages/transformers/generation/utils.py:1354: UserWarning: Using the model-agnostic default `max_length` (=20) to control the generation length. We recommend setting `max_new_tokens` to control the maximum length of the generation.\n",
      "  warnings.warn(\n",
      "/home/goetschm/.local/lib/python3.10/site-packages/transformers/generation/utils.py:1362: UserWarning: Input length of input_ids is 402, but `max_length` is set to 20. This can lead to unexpected behavior. You should consider increasing `max_new_tokens`.\n",
      "  warnings.warn(\n"
     ]
    }
   ],
   "source": [
    "test_out = dict()\n",
    "for str in df['Inputs']:\n",
    "    test_out[str] = test(str)"
   ]
  },
  {
   "cell_type": "code",
   "execution_count": 6,
   "metadata": {},
   "outputs": [
    {
     "data": {
      "text/plain": [
       "{\"Hello, I'm looking for a pediatrician who specializes in treating children with ASD. Can you help me find one in my area?\": '13',\n",
       " 'Hi there, I need to find an occupational therapist who has experience with autism spectrum disorders. Can you provide me with a list of providers near me?': '13',\n",
       " \"Good day, I'm searching for a speech therapist who understands the unique needs of children with autism. Can you recommend someone?\": '13',\n",
       " \"Hey, I'm on the hunt for a behavioral therapist with a focus on ASD for my 6-year-old. Any suggestions in the downtown area?\": '13',\n",
       " 'Can you assist me in locating an ABA (Applied Behavior Analysis) therapist who works with preschool-aged children with autism?': '13',\n",
       " \"I'm in need of a child psychologist skilled in ASD-related issues. Could you point me to a few in the city?\": '13',\n",
       " \"I've been trying to find a support group for parents with children on the autism spectrum. Do you have any information on this?\": '13',\n",
       " \"We're looking for a special education tutor experienced with ASD students. Are there any in our school district?\": '13',\n",
       " 'My daughter has ASD and we need a provider who can help with sensory integration therapy. Any recommendations?': '13',\n",
       " \"Our son has been diagnosed with ASD and we're seeking a developmental pediatrician who can guide us through the next steps. Can you help?\": '13',\n",
       " \"I'm searching for a music therapist who works with autistic children. Is there anyone you could recommend?\": '13',\n",
       " 'Hello, I need to find a reputable center that offers social skills classes for children with autism. Can you locate one nearby?': '13',\n",
       " \"Hi, I'd like to find a nutritionist who understands the dietary needs of a child with ASD. Any leads?\": '13',\n",
       " 'Do you have a list of autism-friendly recreational programs or sports leagues for children?': '13',\n",
       " \"I'm trying to find a school or educational program that specializes in teaching children with autism. Can you provide me with some options?\": '13'}"
      ]
     },
     "execution_count": 6,
     "metadata": {},
     "output_type": "execute_result"
    }
   ],
   "source": [
    "test_out"
   ]
  },
  {
   "cell_type": "code",
   "execution_count": null,
   "metadata": {},
   "outputs": [],
   "source": []
  }
 ],
 "metadata": {
  "kernelspec": {
   "display_name": "Python 3 (ipykernel)",
   "language": "python",
   "name": "python3"
  },
  "language_info": {
   "codemirror_mode": {
    "name": "ipython",
    "version": 3
   },
   "file_extension": ".py",
   "mimetype": "text/x-python",
   "name": "python",
   "nbconvert_exporter": "python",
   "pygments_lexer": "ipython3",
   "version": "3.10.6"
  }
 },
 "nbformat": 4,
 "nbformat_minor": 2
}
