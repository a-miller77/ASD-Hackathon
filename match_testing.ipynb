{
 "cells": [
  {
   "cell_type": "markdown",
   "metadata": {},
   "source": [
    "# Match-Making Test File"
   ]
  },
  {
   "cell_type": "code",
   "execution_count": 1,
   "metadata": {},
   "outputs": [
    {
     "name": "stderr",
     "output_type": "stream",
     "text": [
      "2023-11-18 13:37:06.474016: I tensorflow/core/util/port.cc:110] oneDNN custom operations are on. You may see slightly different numerical results due to floating-point round-off errors from different computation orders. To turn them off, set the environment variable `TF_ENABLE_ONEDNN_OPTS=0`.\n",
      "2023-11-18 13:37:06.515353: I tensorflow/core/platform/cpu_feature_guard.cc:183] This TensorFlow binary is optimized to use available CPU instructions in performance-critical operations.\n",
      "To enable the following instructions: SSE3 SSE4.1 SSE4.2 AVX, in other operations, rebuild TensorFlow with the appropriate compiler flags.\n"
     ]
    }
   ],
   "source": [
    "from clinic_match import ClinicMatch, ClinicQuery\n",
    "from LangChain_chatbot_util import *\n",
    "import pandas as pd"
   ]
  },
  {
   "cell_type": "markdown",
   "metadata": {},
   "source": [
    "Load in api key to tools"
   ]
  },
  {
   "cell_type": "code",
   "execution_count": 2,
   "metadata": {},
   "outputs": [
    {
     "name": "stderr",
     "output_type": "stream",
     "text": [
      "You are using the default legacy behaviour of the <class 'transformers.models.llama.tokenization_llama.LlamaTokenizer'>. This is expected, and simply means that the `legacy` (previous) behavior will be used so nothing changes for you. If you want to use the new behaviour, set `legacy=False`. This should only be set if you understand what it means, and thoroughly read the reason why this was added as explained in https://github.com/huggingface/transformers/pull/24565\n"
     ]
    },
    {
     "data": {
      "application/vnd.jupyter.widget-view+json": {
       "model_id": "522576a8a35d47e6883e814f8cc7fd44",
       "version_major": 2,
       "version_minor": 0
      },
      "text/plain": [
       "Loading checkpoint shards:   0%|          | 0/2 [00:00<?, ?it/s]"
      ]
     },
     "metadata": {},
     "output_type": "display_data"
    }
   ],
   "source": [
    "key = read_api_key()\n",
    "\n",
    "cm = ClinicMatch(key)\n",
    "cq = ClinicQuery(key)"
   ]
  },
  {
   "cell_type": "code",
   "execution_count": 3,
   "metadata": {},
   "outputs": [],
   "source": [
    "#  read test files in\n",
    "df = pd.read_csv(\"big_data_energy/q_testfiles.csv\")"
   ]
  },
  {
   "cell_type": "code",
   "execution_count": 4,
   "metadata": {},
   "outputs": [],
   "source": [
    "def test(str):\n",
    "    return cm.query(cq.query_providers(str))"
   ]
  },
  {
   "cell_type": "code",
   "execution_count": 5,
   "metadata": {},
   "outputs": [
    {
     "name": "stdout",
     "output_type": "stream",
     "text": [
      "  START  *age: Adolescent *service: Therapy *s: (autism) *insurance: ( ) *language: (English) *a:\n",
      "(autism)  END  START  *age: Toddler *service: Assessment *s: (developmental) *insurance: ( )\n",
      "*language: (English) *a: (developmental)\n",
      "\n",
      "\n",
      "  START  * -age: Adult * -service: Therapy * -s: service specific * -insurance: ( ) * -language:\n",
      "English * -a: autism, OT, sensory  END\n",
      "\n",
      "\n",
      "  <START> -age: Adolescent -service: Therapy -s: service specific -insurance: ( ) -language: English\n",
      "-a: autism, speech, therapy, children, unique, needs </START> <END> -age: Toddler -service:\n",
      "Assessment -s: service specific -insurance: ( ) -language: Spanish -a: development, assess\n",
      "\n",
      "\n",
      "  <START> -age: Adolescent -service: Therapy -s: Downtown -insurance: ( ) -language: English -a:\n",
      "autism </START> <END> -age: Toddler -service: Assessment -s: (not specified) -insurance: ( )\n",
      "-language: Spanish -a: ADHD </END>\n",
      "\n",
      "\n",
      "  <START> -age: Adolescent -service: Therapy -s: service specific -insurance: ( ) -language: English\n",
      "-a: additional keywords (autism, behavior analysis) </START> <END> -age: Toddler -service:\n",
      "Assessment -s: service specific -insurance: ( ) -language: English -a: additional keywords\n",
      "(developmental, del\n",
      "\n",
      "\n",
      "  <START> -age: Child -service: Therapy -s: service specific -insurance: ( ) -language: English -a:\n",
      "autism, asd </START> <END> -age: Toddler -service: Assessment -s: service specific -insurance: ( )\n",
      "-language: English -a: developmental, early intervention </END>   I\n",
      "\n",
      "\n",
      "  START  * -age: Adult * -service: Therapy * -s: support group * -insurance: ( ) * -language:\n",
      "(English) * -a: autism spectrum  END\n",
      "\n",
      "\n",
      "  <START> -age: Adolescent -service: Therapy -s: school district -insurance: ( ) -language: English\n",
      "-a: autism </START> <END> -age: Toddler -service: Assessment -s: school district -insurance: ( )\n",
      "-language: Spanish -a: ADHD </END> <START> -age:\n",
      "\n",
      "\n",
      "  <START> -age: Adolescent -service: Therapy -s: (sensory integration) -insurance: ( ) -language:\n",
      "(English) -a: (autism, occupational therapy, speech therapy) </START> <END> -age: Toddler -service:\n",
      "Assessment -s: (developmental) -insurance: ( ) -language: (\n",
      "\n",
      "\n",
      "  <START> -age: Adult -service: Diagnosis -s: developmental pediatrician -insurance: ( ) -language:\n",
      "English -a: autism </START> <END> -age: Toddler -service: Assessment -s: developmental pediatrician\n",
      "-insurance: ( ) -language: English -a: autism </END>\n",
      "\n",
      "\n"
     ]
    },
    {
     "name": "stderr",
     "output_type": "stream",
     "text": [
      "/home/goetschm/.local/lib/python3.10/site-packages/transformers/pipelines/base.py:1101: UserWarning: You seem to be using the pipelines sequentially on GPU. In order to maximize efficiency please use a dataset\n",
      "  warnings.warn(\n"
     ]
    },
    {
     "name": "stdout",
     "output_type": "stream",
     "text": [
      "  <START> -age: Adolescent -service: Therapy -s: service specific -insurance: ( ) -language:\n",
      "(English) -a: autism, music therapy, children, play-based, sensory-friendly </START> <END> -age:\n",
      "Toddler -service: Assessment -s: service specific -insurance: ( ) -language: (\n",
      "\n",
      "\n"
     ]
    },
    {
     "name": "stderr",
     "output_type": "stream",
     "text": [
      "/home/goetschm/.local/lib/python3.10/site-packages/transformers/pipelines/base.py:1101: UserWarning: You seem to be using the pipelines sequentially on GPU. In order to maximize efficiency please use a dataset\n",
      "  warnings.warn(\n"
     ]
    },
    {
     "name": "stdout",
     "output_type": "stream",
     "text": [
      "  START  age: Child service: Therapy s: service specific insurance: ( ) language: English a: social\n",
      "skills, autism, center, children, nearby  END  START  Hello, I am looking for a qualified\n",
      "psychologist who specializes in ADHD and can provide therapy for my child. Can you help me find one\n",
      "in the area?[/INST]  age: Child service: Therapy\n",
      "\n",
      "\n"
     ]
    },
    {
     "name": "stderr",
     "output_type": "stream",
     "text": [
      "/home/goetschm/.local/lib/python3.10/site-packages/transformers/pipelines/base.py:1101: UserWarning: You seem to be using the pipelines sequentially on GPU. In order to maximize efficiency please use a dataset\n",
      "  warnings.warn(\n"
     ]
    },
    {
     "name": "stdout",
     "output_type": "stream",
     "text": [
      "  START  * -age: Child * -service: Therapy * -s: service specific * -insurance: ( ) * -language:\n",
      "English * -a: dietary needs, ASD  END\n",
      "\n",
      "\n"
     ]
    },
    {
     "name": "stderr",
     "output_type": "stream",
     "text": [
      "/home/goetschm/.local/lib/python3.10/site-packages/transformers/pipelines/base.py:1101: UserWarning: You seem to be using the pipelines sequentially on GPU. In order to maximize efficiency please use a dataset\n",
      "  warnings.warn(\n"
     ]
    },
    {
     "name": "stdout",
     "output_type": "stream",
     "text": [
      "  <START> -age: Child -service: Therapy -s: recreational -insurance: ( ) -language: ( ) -a:\n",
      "(additional keywords) </START> <END> -age: Toddler -service: Assessment -s: recreational -insurance:\n",
      "( ) -language: ( ) -a: (additional keywords) </END>\n",
      "\n",
      "\n"
     ]
    },
    {
     "name": "stderr",
     "output_type": "stream",
     "text": [
      "/home/goetschm/.local/lib/python3.10/site-packages/transformers/pipelines/base.py:1101: UserWarning: You seem to be using the pipelines sequentially on GPU. In order to maximize efficiency please use a dataset\n",
      "  warnings.warn(\n"
     ]
    },
    {
     "name": "stdout",
     "output_type": "stream",
     "text": [
      "  <START> -age: Adolescent -service: Educational -s: (school, program) -insurance: ( ) -language:\n",
      "(English) -a: (autism, special education) </START> <END> -age: Toddler -service: Assessment -s:\n",
      "(clinic, center) -insurance: ( ) -language: (Spanish\n",
      "\n",
      "\n"
     ]
    }
   ],
   "source": [
    "test_out = dict()\n",
    "for str in df['Inputs']:\n",
    "    test_out[str] = test(str)"
   ]
  },
  {
   "cell_type": "code",
   "execution_count": 6,
   "metadata": {},
   "outputs": [
    {
     "data": {
      "text/plain": [
       "{\"Hello, I'm looking for a pediatrician who specializes in treating children with ASD. Can you help me find one in my area?\": ['15',\n",
       "  '25',\n",
       "  '19',\n",
       "  '26'],\n",
       " 'Hi there, I need to find an occupational therapist who has experience with autism spectrum disorders. Can you provide me with a list of providers near me?': ['13',\n",
       "  '26',\n",
       "  '25',\n",
       "  '22'],\n",
       " \"Good day, I'm searching for a speech therapist who understands the unique needs of children with autism. Can you recommend someone?\": ['19',\n",
       "  '18',\n",
       "  '22',\n",
       "  '31'],\n",
       " \"Hey, I'm on the hunt for a behavioral therapist with a focus on ASD for my 6-year-old. Any suggestions in the downtown area?\": ['15',\n",
       "  '22',\n",
       "  '19',\n",
       "  '13'],\n",
       " 'Can you assist me in locating an ABA (Applied Behavior Analysis) therapist who works with preschool-aged children with autism?': ['15',\n",
       "  '19',\n",
       "  '18',\n",
       "  '25'],\n",
       " \"I'm in need of a child psychologist skilled in ASD-related issues. Could you point me to a few in the city?\": ['18',\n",
       "  '22',\n",
       "  '26',\n",
       "  '9'],\n",
       " \"I've been trying to find a support group for parents with children on the autism spectrum. Do you have any information on this?\": ['25',\n",
       "  '13',\n",
       "  '22',\n",
       "  '15'],\n",
       " \"We're looking for a special education tutor experienced with ASD students. Are there any in our school district?\": ['15',\n",
       "  '22',\n",
       "  '19',\n",
       "  '18'],\n",
       " 'My daughter has ASD and we need a provider who can help with sensory integration therapy. Any recommendations?': ['13',\n",
       "  '31',\n",
       "  '19',\n",
       "  '22'],\n",
       " \"Our son has been diagnosed with ASD and we're seeking a developmental pediatrician who can guide us through the next steps. Can you help?\": ['25',\n",
       "  '19',\n",
       "  '18',\n",
       "  '26'],\n",
       " \"I'm searching for a music therapist who works with autistic children. Is there anyone you could recommend?\": ['22',\n",
       "  '31',\n",
       "  '19',\n",
       "  '18'],\n",
       " 'Hello, I need to find a reputable center that offers social skills classes for children with autism. Can you locate one nearby?': ['26',\n",
       "  '18',\n",
       "  '22',\n",
       "  '15'],\n",
       " \"Hi, I'd like to find a nutritionist who understands the dietary needs of a child with ASD. Any leads?\": ['30',\n",
       "  '26',\n",
       "  '24',\n",
       "  '16'],\n",
       " 'Do you have a list of autism-friendly recreational programs or sports leagues for children?': ['33',\n",
       "  '1',\n",
       "  '5',\n",
       "  '35'],\n",
       " \"I'm trying to find a school or educational program that specializes in teaching children with autism. Can you provide me with some options?\": ['19',\n",
       "  '18',\n",
       "  '13',\n",
       "  '26']}"
      ]
     },
     "execution_count": 6,
     "metadata": {},
     "output_type": "execute_result"
    }
   ],
   "source": [
    "test_out\n",
    "# this is nothing"
   ]
  }
 ],
 "metadata": {
  "kernelspec": {
   "display_name": "Python 3 (ipykernel)",
   "language": "python",
   "name": "python3"
  }
 },
 "nbformat": 4,
 "nbformat_minor": 2
}
